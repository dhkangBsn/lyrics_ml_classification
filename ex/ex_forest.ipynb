{
 "cells": [
  {
   "cell_type": "code",
   "execution_count": 4,
   "id": "9ddca3a5-5038-4d4b-a0e3-1dc9fa79c1f5",
   "metadata": {},
   "outputs": [
    {
     "data": {
      "text/plain": "   10  12  31  365  42  bu  bye  dalalala  ho  know  ...  희뿌연  힘겨운  힘겨워  힘겹  \\\n0   0   0   0    0   0   0    0         0   0     0  ...    0    0    0   0   \n1   0   0   0    0   0   0    0         0   0     0  ...    0    0    0   0   \n2   0   0   0    0   0   0    0         0   0     0  ...    0    0    0   0   \n\n   힘내  힘든  힘든_새로움_버렸  힘든데  힘들  이별유무  \n0   0   0          0    0   0     1  \n1   0   0          0    0   0     0  \n2   0   0          0    0   0     1  \n\n[3 rows x 3652 columns]",
      "text/html": "<div>\n<style scoped>\n    .dataframe tbody tr th:only-of-type {\n        vertical-align: middle;\n    }\n\n    .dataframe tbody tr th {\n        vertical-align: top;\n    }\n\n    .dataframe thead th {\n        text-align: right;\n    }\n</style>\n<table border=\"1\" class=\"dataframe\">\n  <thead>\n    <tr style=\"text-align: right;\">\n      <th></th>\n      <th>10</th>\n      <th>12</th>\n      <th>31</th>\n      <th>365</th>\n      <th>42</th>\n      <th>bu</th>\n      <th>bye</th>\n      <th>dalalala</th>\n      <th>ho</th>\n      <th>know</th>\n      <th>...</th>\n      <th>희뿌연</th>\n      <th>힘겨운</th>\n      <th>힘겨워</th>\n      <th>힘겹</th>\n      <th>힘내</th>\n      <th>힘든</th>\n      <th>힘든_새로움_버렸</th>\n      <th>힘든데</th>\n      <th>힘들</th>\n      <th>이별유무</th>\n    </tr>\n  </thead>\n  <tbody>\n    <tr>\n      <th>0</th>\n      <td>0</td>\n      <td>0</td>\n      <td>0</td>\n      <td>0</td>\n      <td>0</td>\n      <td>0</td>\n      <td>0</td>\n      <td>0</td>\n      <td>0</td>\n      <td>0</td>\n      <td>...</td>\n      <td>0</td>\n      <td>0</td>\n      <td>0</td>\n      <td>0</td>\n      <td>0</td>\n      <td>0</td>\n      <td>0</td>\n      <td>0</td>\n      <td>0</td>\n      <td>1</td>\n    </tr>\n    <tr>\n      <th>1</th>\n      <td>0</td>\n      <td>0</td>\n      <td>0</td>\n      <td>0</td>\n      <td>0</td>\n      <td>0</td>\n      <td>0</td>\n      <td>0</td>\n      <td>0</td>\n      <td>0</td>\n      <td>...</td>\n      <td>0</td>\n      <td>0</td>\n      <td>0</td>\n      <td>0</td>\n      <td>0</td>\n      <td>0</td>\n      <td>0</td>\n      <td>0</td>\n      <td>0</td>\n      <td>0</td>\n    </tr>\n    <tr>\n      <th>2</th>\n      <td>0</td>\n      <td>0</td>\n      <td>0</td>\n      <td>0</td>\n      <td>0</td>\n      <td>0</td>\n      <td>0</td>\n      <td>0</td>\n      <td>0</td>\n      <td>0</td>\n      <td>...</td>\n      <td>0</td>\n      <td>0</td>\n      <td>0</td>\n      <td>0</td>\n      <td>0</td>\n      <td>0</td>\n      <td>0</td>\n      <td>0</td>\n      <td>0</td>\n      <td>1</td>\n    </tr>\n  </tbody>\n</table>\n<p>3 rows × 3652 columns</p>\n</div>"
     },
     "execution_count": 4,
     "metadata": {},
     "output_type": "execute_result"
    }
   ],
   "source": [
    "# 필요한 모듈과 데이터 불러오기\n",
    "import pandas as pd\n",
    "\n",
    "from sklearn.ensemble import VotingClassifier\n",
    "from sklearn.linear_model import LogisticRegression\n",
    "from sklearn.neighbors import KNeighborsClassifier\n",
    "from sklearn.datasets import load_breast_cancer\n",
    "from sklearn.model_selection import train_test_split\n",
    "from sklearn.metrics import accuracy_score\n",
    "\n",
    "from warnings import filterwarnings\n",
    "filterwarnings('ignore')\n",
    "cancer = pd.read_csv('../data/dtm_matrix_origin.csv', encoding='cp949')\n",
    "columns = cancer.columns\n",
    "df = pd.DataFrame(cancer, columns=columns)\n",
    "df.head(3)"
   ]
  },
  {
   "cell_type": "code",
   "execution_count": 5,
   "id": "3dc43254-b368-4d9e-8f3c-b2432cfa2325",
   "metadata": {},
   "outputs": [
    {
     "data": {
      "text/plain": "'이별유무'"
     },
     "execution_count": 5,
     "metadata": {},
     "output_type": "execute_result"
    }
   ],
   "source": [
    "columns[-1]\n"
   ]
  },
  {
   "cell_type": "code",
   "execution_count": 8,
   "id": "03d573d8-71aa-4061-9eb0-768238e984a9",
   "metadata": {},
   "outputs": [
    {
     "name": "stdout",
     "output_type": "stream",
     "text": [
      "(973, 3651)\n"
     ]
    },
    {
     "data": {
      "text/plain": "(0.9987146529562982, 0.7897435897435897)"
     },
     "execution_count": 8,
     "metadata": {},
     "output_type": "execute_result"
    }
   ],
   "source": [
    "from sklearn.tree import DecisionTreeClassifier\n",
    "\n",
    "# 보팅 적용을 위한 개별 모델은 로지스틱 회귀와 KNN\n",
    "model_lr = LogisticRegression()\n",
    "model_knn = KNeighborsClassifier(n_neighbors=2)\n",
    "model_tree = DecisionTreeClassifier(max_depth=4, random_state=0)\n",
    "\n",
    "# 개별모델을 소프트보팅 기반의 앙상블 모델로 구현한 분류기\n",
    "model_voting = VotingClassifier(estimators=[('LogisticRegression', model_lr),\n",
    "                                            ('knn', model_knn),\n",
    "                                            ('tree', model_tree) ], \n",
    "                                voting='soft')\n",
    "\n",
    "# 데이터를 훈련셋과 테스트셋으로 나누기\n",
    "X = cancer.iloc[:,:-1]\n",
    "y = cancer.iloc[:,-1]\n",
    "X_train, X_test, y_train, y_test = train_test_split(X, y, \n",
    "                                                    random_state=42, \n",
    "                                                    test_size=0.2)\n",
    "# 보팅 분류기의 학습/예측/평가\n",
    "model_voting.fit(X_train, y_train)\n",
    "model_voting.score(X_train, y_train), model_voting.score(X_test, y_test)"
   ]
  },
  {
   "cell_type": "code",
   "execution_count": 16,
   "id": "b7fcb75c-df98-4dea-994c-a3310a72f8c5",
   "metadata": {},
   "outputs": [
    {
     "name": "stdout",
     "output_type": "stream",
     "text": [
      "LogisticRegression 1.0 0.9641025641025641\n",
      "KNeighborsClassifier 0.9125964010282777 0.9230769230769231\n",
      "DecisionTreeClassifier 0.9344473007712082 0.9230769230769231\n"
     ]
    }
   ],
   "source": [
    "# 개별 모델의 학습/예측/평가\n",
    "for m in [model_lr, model_knn, model_tree]:\n",
    "  m.fit(X_train, y_train)\n",
    "  print(m.__class__.__name__,  m.score(X_train, y_train), m.score(X_test, y_test) )"
   ]
  },
  {
   "cell_type": "code",
   "execution_count": 8,
   "id": "397a2311-abac-46c1-89b6-2d6ffa0f93da",
   "metadata": {},
   "outputs": [
    {
     "data": {
      "text/plain": [
       "(0.9190672153635117, 0.9016393442622951)"
      ]
     },
     "execution_count": 8,
     "metadata": {},
     "output_type": "execute_result"
    }
   ],
   "source": [
    "from sklearn.datasets import load_breast_cancer\n",
    "from sklearn.model_selection import train_test_split\n",
    "from sklearn.ensemble import RandomForestClassifier\n",
    "from sklearn.datasets import make_moons\n",
    "import matplotlib.pyplot as plt\n",
    "\n",
    "# 데이터 로드\n",
    "cancer = load_breast_cancer()\n",
    "\n",
    "X_train, X_test, y_train, y_test = train_test_split(X,\n",
    "                                                    y,\n",
    "                                                    random_state=0)\n",
    "\n",
    "# 모델 학습\n",
    "model = RandomForestClassifier(n_estimators=100, n_jobs=4,\n",
    "                               max_features=11, \n",
    "                               max_depth=6, \n",
    "                               random_state=0)\n",
    "model.fit(X_train, y_train)\n",
    "# 평가\n",
    "model.score(X_train, y_train), model.score(X_test, y_test)"
   ]
  },
  {
   "cell_type": "code",
   "execution_count": 14,
   "id": "78311fc0-420a-4f5c-bfce-73b7204b814f",
   "metadata": {},
   "outputs": [
    {
     "name": "stdout",
     "output_type": "stream",
     "text": [
      "0.9190672153635117\n",
      "0.9190672153635117\n",
      "0.9016393442622951\n"
     ]
    },
    {
     "data": {
      "text/plain": [
       "<AxesSubplot:>"
      ]
     },
     "execution_count": 14,
     "metadata": {},
     "output_type": "execute_result"
    },
    {
     "data": {
      "image/png": "[encoded data removed]",
      "text/plain": [
       "<Figure size 432x288 with 1 Axes>"
      ]
     },
     "metadata": {
      "needs_background": "light"
     },
     "output_type": "display_data"
    }
   ],
   "source": [
    "import seaborn as sns\n",
    "# 모델 학습\n",
    "model = RandomForestClassifier(n_estimators=100, \n",
    "                               max_features=3,\n",
    "                               max_depth=3,  \n",
    "                               oob_score=True,\n",
    "                               random_state=0)\n",
    "model.fit(X_train, y_train)\n",
    "# 평가\n",
    "print( model.score(X_train, y_train) )\n",
    "print( model.oob_score_ )\n",
    "print( model.score(X_test, y_test) )\n",
    "\n",
    "# 결정함수는 각 훈련 샘플의 클래스 확률을 반환 \n",
    "# (predict_proba()가 기반이 되는 예측기 모델에 존재하기 때문)\n",
    "# print(\"OOB 샘플의 결정 함수값:\" , model.oob_decision_function_)\n",
    "len(model.oob_decision_function_)\n",
    "\n",
    "# 특성 중요도 시각화\n",
    "sns.barplot(x=model.feature_importances_, y=columns[:-1])"
   ]
  },
  {
   "cell_type": "code",
   "execution_count": null,
   "id": "8517214e-03dc-43d3-96c4-6c0c7962dfcc",
   "metadata": {},
   "outputs": [],
   "source": []
  }
 ],
 "metadata": {
  "kernelspec": {
   "display_name": "Python 3 (ipykernel)",
   "language": "python",
   "name": "python3"
  },
  "language_info": {
   "codemirror_mode": {
    "name": "ipython",
    "version": 3
   },
   "file_extension": ".py",
   "mimetype": "text/x-python",
   "name": "python",
   "nbconvert_exporter": "python",
   "pygments_lexer": "ipython3",
   "version": "3.8.2"
  }
 },
 "nbformat": 4,
 "nbformat_minor": 5
}